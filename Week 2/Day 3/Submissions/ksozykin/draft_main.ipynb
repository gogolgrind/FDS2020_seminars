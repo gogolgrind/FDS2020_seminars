{
 "cells": [
  {
   "cell_type": "code",
   "execution_count": 1,
   "metadata": {},
   "outputs": [],
   "source": [
    "#import warnings\n",
    "#warnings.filterwarnings(\"ignore\")\n",
    "import os\n",
    "from glob import glob\n",
    "import argparse"
   ]
  },
  {
   "cell_type": "code",
   "execution_count": 2,
   "metadata": {},
   "outputs": [],
   "source": [
    "import dask\n",
    "from dask_ml import linear_model as dlm\n",
    "import dask.dataframe as dpd\n",
    "import joblib\n",
    "import pandas as pd\n",
    "from dask.distributed import Client,LocalCluster"
   ]
  },
  {
   "cell_type": "code",
   "execution_count": null,
   "metadata": {},
   "outputs": [],
   "source": []
  },
  {
   "cell_type": "code",
   "execution_count": 3,
   "metadata": {},
   "outputs": [],
   "source": [
    "n_jobs = 4\n",
    "tmp_dir =  '/ksozykinraid/tmp/'\n",
    "dask.config.set({'temporary_directory': tmp_dir})\n",
    "os.environ['JOBLIB_TEMP_FOLDER'] = tmp_dir "
   ]
  },
  {
   "cell_type": "code",
   "execution_count": 4,
   "metadata": {},
   "outputs": [],
   "source": [
    "cluster = LocalCluster(threads_per_worker=2, n_workers=n_jobs,memory_limit='2GB')\n",
    "client = Client(cluster)"
   ]
  },
  {
   "cell_type": "code",
   "execution_count": 5,
   "metadata": {},
   "outputs": [],
   "source": [
    "from solvers import XgbSolver,XgbDaskSolver"
   ]
  },
  {
   "cell_type": "code",
   "execution_count": 6,
   "metadata": {},
   "outputs": [],
   "source": [
    "from solvers import BaseSolver"
   ]
  },
  {
   "cell_type": "code",
   "execution_count": 7,
   "metadata": {},
   "outputs": [],
   "source": [
    "class SgdDaskSolver(BaseSolver):\n",
    "    \n",
    "    def __init__(self,max_years=10,\n",
    "                      seed = 42,\n",
    "                      test_size = 0.25,\n",
    "                      data_dir = '/ksozykinraid/data/nycflights',\n",
    "                      n_jobs = 4):\n",
    "        \n",
    "        self.set_const(data_dir,max_years,seed,test_size,n_jobs)\n",
    "        self.model = dlm.LinearRegression()\n",
    "        self.backend = dpd\n",
    "        self.backend_name = 'dask'\n",
    "        self.param_grid = {\n",
    "            'max_iter': [100, 500, 1000]\n",
    "        }"
   ]
  },
  {
   "cell_type": "code",
   "execution_count": 8,
   "metadata": {},
   "outputs": [],
   "source": [
    "def cv(self):\n",
    "    grid_search = GridSearchCV(self.model, self.param_grid,\n",
    "                               cv=3, n_jobs=1)\n",
    "    with joblib.parallel_backend(\"dask\"):\n",
    "        grid_search.fit(self.X_val, self.y_val)\n",
    "    self.model = self.model.__class__(**grid_search.best_params_,scheduler=client)"
   ]
  },
  {
   "cell_type": "code",
   "execution_count": 9,
   "metadata": {},
   "outputs": [],
   "source": [
    "#pd_solver = XgbSolver(n_jobs=n_jobs)\n",
    "#pd_solver.solve()\n",
    "#pd_solver.info()"
   ]
  },
  {
   "cell_type": "code",
   "execution_count": 10,
   "metadata": {},
   "outputs": [],
   "source": [
    "dask_solver = SgdDaskSolver(n_jobs=n_jobs)"
   ]
  },
  {
   "cell_type": "code",
   "execution_count": null,
   "metadata": {},
   "outputs": [],
   "source": [
    "dask_solver.solve()"
   ]
  },
  {
   "cell_type": "code",
   "execution_count": null,
   "metadata": {},
   "outputs": [],
   "source": [
    "dask_solver.info()"
   ]
  },
  {
   "cell_type": "code",
   "execution_count": 11,
   "metadata": {},
   "outputs": [],
   "source": [
    "import dask_ml.model_selection as dcv\n",
    "from sklearn import svm, datasets\n",
    "iris = datasets.load_iris()\n",
    "parameters = {\n",
    "        'max_iter': [100, 500, 1000],\n",
    "        \n",
    "    }\n",
    "m = dlm.LinearRegression()\n",
    "clf = dcv.GridSearchCV(m, parameters)"
   ]
  },
  {
   "cell_type": "code",
   "execution_count": 12,
   "metadata": {},
   "outputs": [
    {
     "data": {
      "text/html": [
       "<div><strong>Dask DataFrame Structure:</strong></div>\n",
       "<div>\n",
       "<style scoped>\n",
       "    .dataframe tbody tr th:only-of-type {\n",
       "        vertical-align: middle;\n",
       "    }\n",
       "\n",
       "    .dataframe tbody tr th {\n",
       "        vertical-align: top;\n",
       "    }\n",
       "\n",
       "    .dataframe thead th {\n",
       "        text-align: right;\n",
       "    }\n",
       "</style>\n",
       "<table border=\"1\" class=\"dataframe\">\n",
       "  <thead>\n",
       "    <tr style=\"text-align: right;\">\n",
       "      <th></th>\n",
       "      <th>0</th>\n",
       "    </tr>\n",
       "    <tr>\n",
       "      <th>npartitions=2</th>\n",
       "      <th></th>\n",
       "    </tr>\n",
       "  </thead>\n",
       "  <tbody>\n",
       "    <tr>\n",
       "      <th>0</th>\n",
       "      <td>int64</td>\n",
       "    </tr>\n",
       "    <tr>\n",
       "      <th>75</th>\n",
       "      <td>...</td>\n",
       "    </tr>\n",
       "    <tr>\n",
       "      <th>149</th>\n",
       "      <td>...</td>\n",
       "    </tr>\n",
       "  </tbody>\n",
       "</table>\n",
       "</div>\n",
       "<div>Dask Name: from_pandas, 2 tasks</div>"
      ],
      "text/plain": [
       "Dask DataFrame Structure:\n",
       "                   0\n",
       "npartitions=2       \n",
       "0              int64\n",
       "75               ...\n",
       "149              ...\n",
       "Dask Name: from_pandas, 2 tasks"
      ]
     },
     "execution_count": 12,
     "metadata": {},
     "output_type": "execute_result"
    }
   ],
   "source": [
    "dpd.from_pandas(pd.DataFrame(iris.target),npartitions=2)"
   ]
  },
  {
   "cell_type": "code",
   "execution_count": null,
   "metadata": {},
   "outputs": [],
   "source": [
    "clf.fit(dpd.from_pandas(pd.DataFrame(iris.data),npartitions=2), \n",
    "        dpd.from_pandas(pd.DataFrame(iris.target),npartitions=2))"
   ]
  },
  {
   "cell_type": "code",
   "execution_count": null,
   "metadata": {},
   "outputs": [],
   "source": [
    "import dask"
   ]
  },
  {
   "cell_type": "code",
   "execution_count": null,
   "metadata": {},
   "outputs": [],
   "source": [
    "dask.dataframe.from_array(iris.data)"
   ]
  },
  {
   "cell_type": "code",
   "execution_count": null,
   "metadata": {},
   "outputs": [],
   "source": [
    "m"
   ]
  },
  {
   "cell_type": "code",
   "execution_count": null,
   "metadata": {},
   "outputs": [],
   "source": []
  }
 ],
 "metadata": {
  "kernelspec": {
   "display_name": "Python [conda env:huawei] *",
   "language": "python",
   "name": "conda-env-huawei-py"
  },
  "language_info": {
   "codemirror_mode": {
    "name": "ipython",
    "version": 3
   },
   "file_extension": ".py",
   "mimetype": "text/x-python",
   "name": "python",
   "nbconvert_exporter": "python",
   "pygments_lexer": "ipython3",
   "version": "3.6.9"
  }
 },
 "nbformat": 4,
 "nbformat_minor": 2
}
